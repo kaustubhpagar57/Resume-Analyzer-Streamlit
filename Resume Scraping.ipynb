{
 "cells": [
  {
   "cell_type": "code",
   "execution_count": 1,
   "id": "491ddcb2",
   "metadata": {},
   "outputs": [
    {
     "name": "stdout",
     "output_type": "stream",
     "text": [
      "Requirement already satisfied: selenium in /opt/anaconda3/lib/python3.8/site-packages (4.2.0)\n",
      "Requirement already satisfied: urllib3[secure,socks]~=1.26 in /opt/anaconda3/lib/python3.8/site-packages (from selenium) (1.26.4)\n",
      "Requirement already satisfied: trio-websocket~=0.9 in /opt/anaconda3/lib/python3.8/site-packages (from selenium) (0.9.2)\n",
      "Requirement already satisfied: trio~=0.17 in /opt/anaconda3/lib/python3.8/site-packages (from selenium) (0.20.0)\n",
      "Requirement already satisfied: attrs>=19.2.0 in /opt/anaconda3/lib/python3.8/site-packages (from trio~=0.17->selenium) (20.3.0)\n",
      "Requirement already satisfied: sortedcontainers in /opt/anaconda3/lib/python3.8/site-packages (from trio~=0.17->selenium) (2.3.0)\n",
      "Requirement already satisfied: sniffio in /opt/anaconda3/lib/python3.8/site-packages (from trio~=0.17->selenium) (1.2.0)\n",
      "Requirement already satisfied: idna in /opt/anaconda3/lib/python3.8/site-packages (from trio~=0.17->selenium) (2.10)\n",
      "Requirement already satisfied: outcome in /opt/anaconda3/lib/python3.8/site-packages (from trio~=0.17->selenium) (1.1.0)\n",
      "Requirement already satisfied: async-generator>=1.9 in /opt/anaconda3/lib/python3.8/site-packages (from trio~=0.17->selenium) (1.10)\n",
      "Requirement already satisfied: wsproto>=0.14 in /opt/anaconda3/lib/python3.8/site-packages (from trio-websocket~=0.9->selenium) (1.1.0)\n",
      "Requirement already satisfied: PySocks!=1.5.7,<2.0,>=1.5.6 in /opt/anaconda3/lib/python3.8/site-packages (from urllib3[secure,socks]~=1.26->selenium) (1.7.1)\n",
      "Requirement already satisfied: certifi in /opt/anaconda3/lib/python3.8/site-packages (from urllib3[secure,socks]~=1.26->selenium) (2021.10.8)\n",
      "Requirement already satisfied: pyOpenSSL>=0.14 in /opt/anaconda3/lib/python3.8/site-packages (from urllib3[secure,socks]~=1.26->selenium) (20.0.1)\n",
      "Requirement already satisfied: cryptography>=1.3.4 in /opt/anaconda3/lib/python3.8/site-packages (from urllib3[secure,socks]~=1.26->selenium) (3.4.7)\n",
      "Requirement already satisfied: cffi>=1.12 in /opt/anaconda3/lib/python3.8/site-packages (from cryptography>=1.3.4->urllib3[secure,socks]~=1.26->selenium) (1.14.5)\n",
      "Requirement already satisfied: pycparser in /opt/anaconda3/lib/python3.8/site-packages (from cffi>=1.12->cryptography>=1.3.4->urllib3[secure,socks]~=1.26->selenium) (2.20)\n",
      "Requirement already satisfied: six>=1.5.2 in /opt/anaconda3/lib/python3.8/site-packages (from pyOpenSSL>=0.14->urllib3[secure,socks]~=1.26->selenium) (1.15.0)\n",
      "Requirement already satisfied: h11<1,>=0.9.0 in /opt/anaconda3/lib/python3.8/site-packages (from wsproto>=0.14->trio-websocket~=0.9->selenium) (0.13.0)\n",
      "Requirement already satisfied: webdriver-manager in /opt/anaconda3/lib/python3.8/site-packages (3.7.0)\n",
      "Requirement already satisfied: python-dotenv in /opt/anaconda3/lib/python3.8/site-packages (from webdriver-manager) (0.20.0)\n",
      "Requirement already satisfied: requests in /opt/anaconda3/lib/python3.8/site-packages (from webdriver-manager) (2.25.1)\n",
      "Requirement already satisfied: urllib3<1.27,>=1.21.1 in /opt/anaconda3/lib/python3.8/site-packages (from requests->webdriver-manager) (1.26.4)\n",
      "Requirement already satisfied: chardet<5,>=3.0.2 in /opt/anaconda3/lib/python3.8/site-packages (from requests->webdriver-manager) (4.0.0)\n",
      "Requirement already satisfied: idna<3,>=2.5 in /opt/anaconda3/lib/python3.8/site-packages (from requests->webdriver-manager) (2.10)\n",
      "Requirement already satisfied: certifi>=2017.4.17 in /opt/anaconda3/lib/python3.8/site-packages (from requests->webdriver-manager) (2021.10.8)\n"
     ]
    }
   ],
   "source": [
    "!pip install selenium\n",
    "!pip install webdriver-manager"
   ]
  },
  {
   "cell_type": "code",
   "execution_count": 18,
   "id": "74378f79",
   "metadata": {},
   "outputs": [],
   "source": [
    "from bs4 import BeautifulSoup\n",
    "import bs4\n",
    "import requests\n",
    "from selenium import webdriver\n",
    "\n",
    "import pandas as pd\n",
    "import numpy as np"
   ]
  },
  {
   "cell_type": "code",
   "execution_count": 19,
   "id": "442d7f1b",
   "metadata": {},
   "outputs": [
    {
     "name": "stdout",
     "output_type": "stream",
     "text": [
      "\n"
     ]
    },
    {
     "name": "stderr",
     "output_type": "stream",
     "text": [
      "[WDM] - ====== WebDriver manager ======\n",
      "[WDM] - Current google-chrome version is 102.0.5005\n",
      "[WDM] - Get LATEST chromedriver version for 102.0.5005 google-chrome\n",
      "[WDM] - About to download new driver from https://chromedriver.storage.googleapis.com/102.0.5005.61/chromedriver_mac64.zip\n",
      "[WDM] - Driver has been saved in cache [/Users/bitanbiswas/.wdm/drivers/chromedriver/mac64/102.0.5005.61]\n",
      "<ipython-input-19-0987a487086c>:4: DeprecationWarning: executable_path has been deprecated, please pass in a Service object\n",
      "  driver = webdriver.Chrome(ChromeDriverManager().install())\n"
     ]
    }
   ],
   "source": [
    "from selenium import webdriver\n",
    "from webdriver_manager.chrome import ChromeDriverManager\n",
    "\n",
    "driver = webdriver.Chrome(ChromeDriverManager().install())"
   ]
  },
  {
   "cell_type": "code",
   "execution_count": 20,
   "id": "6553e90c",
   "metadata": {},
   "outputs": [],
   "source": [
    "job_list = ['HR', 'designer', 'Information-Technology',\n",
    "       'Teacher', 'Advocate', 'Business-Development',\n",
    "       'Healthcare', 'Fitness', 'Agriculture', 'BPO', 'Sales', 'Consultant',\n",
    "       'Digital-Media', 'Automobile', 'Chef', 'Finance',\n",
    "       'Apparel', 'Engineering', 'Accountant', 'Construction',\n",
    "       'Public-Relations', 'Banking', 'Arts', 'Aviation','Data Scientist','Data Engineer','Technical Architect','Cloud Architect']"
   ]
  },
  {
   "cell_type": "code",
   "execution_count": 21,
   "id": "cd880c66",
   "metadata": {},
   "outputs": [],
   "source": [
    "resume_links = pd.DataFrame()\n",
    "category = []\n",
    "link = []"
   ]
  },
  {
   "cell_type": "code",
   "execution_count": 22,
   "id": "b9f942d6",
   "metadata": {},
   "outputs": [
    {
     "name": "stderr",
     "output_type": "stream",
     "text": [
      "<ipython-input-22-27c46fb9e217>:7: DeprecationWarning: find_elements_by_css_selector is deprecated. Please use find_elements(by=By.CSS_SELECTOR, value=css_selector) instead\n",
      "  aTagsInLi = driver.find_elements_by_css_selector('li a')\n"
     ]
    }
   ],
   "source": [
    "for job in job_list:\n",
    "    JOB = job.lower()\n",
    "    for i in range(1,2):   # INCREASE THE RANGE TO GET MORE RESUME DATA\n",
    "        PAGE = str(i)\n",
    "        URL = \"https://www.livecareer.com/resume-search/search?jt=\" + JOB + \"&bg=85&eg=100&comp=&mod=&pg=\" + PAGE\n",
    "        driver.get(URL)\n",
    "        aTagsInLi = driver.find_elements_by_css_selector('li a')\n",
    "        for a in aTagsInLi:\n",
    "            if a.get_attribute('rel') == \"ugc\":\n",
    "                category.append(JOB)\n",
    "                link.append(a.get_attribute('href'))\n",
    "    "
   ]
  },
  {
   "cell_type": "code",
   "execution_count": 23,
   "id": "f9108a6a",
   "metadata": {},
   "outputs": [],
   "source": [
    "resume_links[\"Category\"] = category\n",
    "resume_links[\"link\"] = link"
   ]
  },
  {
   "cell_type": "code",
   "execution_count": 24,
   "id": "d87425ab",
   "metadata": {},
   "outputs": [],
   "source": [
    "import hashlib\n",
    "def id(x):\n",
    "    return int(hashlib.md5(x.encode('utf-8')).hexdigest(), 16)\n",
    "\n",
    "resume_links[\"id\"] = resume_links[\"link\"].apply(id)"
   ]
  },
  {
   "cell_type": "code",
   "execution_count": 25,
   "id": "246dea56",
   "metadata": {},
   "outputs": [],
   "source": [
    "df=resume_links"
   ]
  },
  {
   "cell_type": "code",
   "execution_count": 26,
   "id": "d5908f52",
   "metadata": {},
   "outputs": [
    {
     "data": {
      "text/plain": [
       "agriculture               11\n",
       "technical architect       11\n",
       "automobile                11\n",
       "aviation                  11\n",
       "bpo                       11\n",
       "data scientist            11\n",
       "engineering               11\n",
       "construction              11\n",
       "advocate                  11\n",
       "fitness                   11\n",
       "cloud architect           11\n",
       "business-development      11\n",
       "consultant                11\n",
       "teacher                   11\n",
       "information-technology    11\n",
       "apparel                   11\n",
       "chef                      11\n",
       "finance                   11\n",
       "data engineer             11\n",
       "hr                        11\n",
       "healthcare                11\n",
       "accountant                11\n",
       "public-relations          11\n",
       "banking                   11\n",
       "arts                      11\n",
       "sales                     11\n",
       "digital-media             11\n",
       "designer                  11\n",
       "Name: Category, dtype: int64"
      ]
     },
     "execution_count": 26,
     "metadata": {},
     "output_type": "execute_result"
    }
   ],
   "source": [
    "df.Category.value_counts()"
   ]
  },
  {
   "cell_type": "code",
   "execution_count": 27,
   "id": "e525b9e4",
   "metadata": {},
   "outputs": [],
   "source": [
    "df[\"Resume\"] = \"\"\n",
    "df[\"Raw_html\"] = \"\""
   ]
  },
  {
   "cell_type": "code",
   "execution_count": 28,
   "id": "e4eb8323",
   "metadata": {},
   "outputs": [],
   "source": [
    "import time\n",
    "for i in range(df.shape[0]):\n",
    "    url = df.link[i]\n",
    "    driver.get(url)\n",
    "    time.sleep(0.5)                  #ADDED DELAY, CAN BE REMOVED\n",
    "    x = driver.page_source\n",
    "    x = x.replace(\">\",\"> \")\n",
    "    soup = bs4.BeautifulSoup(x, 'html.parser')\n",
    "    div = soup.find(\"div\", {\"id\": \"document\"})\n",
    "    df.Raw_html[i] = div\n",
    "    try:\n",
    "        df.Resume[i] = div.text\n",
    "    except:\n",
    "#         ADD EXCEPTION IF REQUIRED\n",
    "        pass"
   ]
  },
  {
   "cell_type": "code",
   "execution_count": 29,
   "id": "92714f29",
   "metadata": {},
   "outputs": [
    {
     "data": {
      "text/html": [
       "<div>\n",
       "<style scoped>\n",
       "    .dataframe tbody tr th:only-of-type {\n",
       "        vertical-align: middle;\n",
       "    }\n",
       "\n",
       "    .dataframe tbody tr th {\n",
       "        vertical-align: top;\n",
       "    }\n",
       "\n",
       "    .dataframe thead th {\n",
       "        text-align: right;\n",
       "    }\n",
       "</style>\n",
       "<table border=\"1\" class=\"dataframe\">\n",
       "  <thead>\n",
       "    <tr style=\"text-align: right;\">\n",
       "      <th></th>\n",
       "      <th>Category</th>\n",
       "      <th>link</th>\n",
       "      <th>id</th>\n",
       "      <th>Resume</th>\n",
       "      <th>Raw_html</th>\n",
       "    </tr>\n",
       "  </thead>\n",
       "  <tbody>\n",
       "    <tr>\n",
       "      <th>0</th>\n",
       "      <td>hr</td>\n",
       "      <td>https://www.livecareer.com/resume-search/</td>\n",
       "      <td>20833638260276278065918687170912323191</td>\n",
       "      <td></td>\n",
       "      <td>None</td>\n",
       "    </tr>\n",
       "    <tr>\n",
       "      <th>1</th>\n",
       "      <td>hr</td>\n",
       "      <td>https://www.livecareer.com/resume-search/r/hr-...</td>\n",
       "      <td>203361909970992332506290823189098544432</td>\n",
       "      <td>HR EMPLOYEE SERVICE REPRESENTATIVE   ...</td>\n",
       "      <td>[ , [ , [ , &lt;div class=\"name\" itemprop=\"name\"&gt;...</td>\n",
       "    </tr>\n",
       "    <tr>\n",
       "      <th>2</th>\n",
       "      <td>hr</td>\n",
       "      <td>https://www.livecareer.com/resume-search/r/bri...</td>\n",
       "      <td>176452925245576845188344162105053478091</td>\n",
       "      <td>BRIDGES OF AMERICA, HR SPECIALIST II ...</td>\n",
       "      <td>[ , [ , [ , &lt;div class=\"name\" itemprop=\"name\"&gt;...</td>\n",
       "    </tr>\n",
       "    <tr>\n",
       "      <th>3</th>\n",
       "      <td>hr</td>\n",
       "      <td>https://www.livecareer.com/resume-search/r/reg...</td>\n",
       "      <td>224895221270146291614712443228903825828</td>\n",
       "      <td>REGIONAL HR MANAGER       Summary    ...</td>\n",
       "      <td>[ , [ , [ , &lt;div class=\"name\" itemprop=\"name\"&gt;...</td>\n",
       "    </tr>\n",
       "    <tr>\n",
       "      <th>4</th>\n",
       "      <td>hr</td>\n",
       "      <td>https://www.livecareer.com/resume-search/r/hr-...</td>\n",
       "      <td>120168133438024183006274626332357739684</td>\n",
       "      <td>HR GENERALIST       Professional Prof...</td>\n",
       "      <td>[ , [ , [ , &lt;div class=\"name\" itemprop=\"name\"&gt;...</td>\n",
       "    </tr>\n",
       "  </tbody>\n",
       "</table>\n",
       "</div>"
      ],
      "text/plain": [
       "  Category                                               link  \\\n",
       "0       hr          https://www.livecareer.com/resume-search/   \n",
       "1       hr  https://www.livecareer.com/resume-search/r/hr-...   \n",
       "2       hr  https://www.livecareer.com/resume-search/r/bri...   \n",
       "3       hr  https://www.livecareer.com/resume-search/r/reg...   \n",
       "4       hr  https://www.livecareer.com/resume-search/r/hr-...   \n",
       "\n",
       "                                        id  \\\n",
       "0   20833638260276278065918687170912323191   \n",
       "1  203361909970992332506290823189098544432   \n",
       "2  176452925245576845188344162105053478091   \n",
       "3  224895221270146291614712443228903825828   \n",
       "4  120168133438024183006274626332357739684   \n",
       "\n",
       "                                              Resume  \\\n",
       "0                                                      \n",
       "1           HR EMPLOYEE SERVICE REPRESENTATIVE   ...   \n",
       "2           BRIDGES OF AMERICA, HR SPECIALIST II ...   \n",
       "3           REGIONAL HR MANAGER       Summary    ...   \n",
       "4           HR GENERALIST       Professional Prof...   \n",
       "\n",
       "                                            Raw_html  \n",
       "0                                               None  \n",
       "1  [ , [ , [ , <div class=\"name\" itemprop=\"name\">...  \n",
       "2  [ , [ , [ , <div class=\"name\" itemprop=\"name\">...  \n",
       "3  [ , [ , [ , <div class=\"name\" itemprop=\"name\">...  \n",
       "4  [ , [ , [ , <div class=\"name\" itemprop=\"name\">...  "
      ]
     },
     "execution_count": 29,
     "metadata": {},
     "output_type": "execute_result"
    }
   ],
   "source": [
    "df.head()"
   ]
  },
  {
   "cell_type": "code",
   "execution_count": 30,
   "id": "7bdcf05e",
   "metadata": {},
   "outputs": [],
   "source": [
    "df.to_csv(\"Resume.csv\",index=False)"
   ]
  },
  {
   "cell_type": "code",
   "execution_count": 39,
   "id": "f82755bf",
   "metadata": {},
   "outputs": [],
   "source": [
    "df=df[~(df['Resume']=='')].reset_index().drop('index',axis=1)"
   ]
  },
  {
   "cell_type": "code",
   "execution_count": 40,
   "id": "12d4e9f1",
   "metadata": {},
   "outputs": [],
   "source": [
    "df.to_csv(\"Resume.csv\",index=False)"
   ]
  },
  {
   "cell_type": "code",
   "execution_count": 41,
   "id": "35065e7f",
   "metadata": {},
   "outputs": [
    {
     "data": {
      "text/html": [
       "<div>\n",
       "<style scoped>\n",
       "    .dataframe tbody tr th:only-of-type {\n",
       "        vertical-align: middle;\n",
       "    }\n",
       "\n",
       "    .dataframe tbody tr th {\n",
       "        vertical-align: top;\n",
       "    }\n",
       "\n",
       "    .dataframe thead th {\n",
       "        text-align: right;\n",
       "    }\n",
       "</style>\n",
       "<table border=\"1\" class=\"dataframe\">\n",
       "  <thead>\n",
       "    <tr style=\"text-align: right;\">\n",
       "      <th></th>\n",
       "      <th>Category</th>\n",
       "      <th>link</th>\n",
       "      <th>id</th>\n",
       "      <th>Resume</th>\n",
       "      <th>Raw_html</th>\n",
       "    </tr>\n",
       "  </thead>\n",
       "  <tbody>\n",
       "    <tr>\n",
       "      <th>0</th>\n",
       "      <td>hr</td>\n",
       "      <td>https://www.livecareer.com/resume-search/r/hr-...</td>\n",
       "      <td>203361909970992332506290823189098544432</td>\n",
       "      <td>HR EMPLOYEE SERVICE REPRESENTATIVE   ...</td>\n",
       "      <td>[ , [ , [ , &lt;div class=\"name\" itemprop=\"name\"&gt;...</td>\n",
       "    </tr>\n",
       "    <tr>\n",
       "      <th>1</th>\n",
       "      <td>hr</td>\n",
       "      <td>https://www.livecareer.com/resume-search/r/bri...</td>\n",
       "      <td>176452925245576845188344162105053478091</td>\n",
       "      <td>BRIDGES OF AMERICA, HR SPECIALIST II ...</td>\n",
       "      <td>[ , [ , [ , &lt;div class=\"name\" itemprop=\"name\"&gt;...</td>\n",
       "    </tr>\n",
       "    <tr>\n",
       "      <th>2</th>\n",
       "      <td>hr</td>\n",
       "      <td>https://www.livecareer.com/resume-search/r/reg...</td>\n",
       "      <td>224895221270146291614712443228903825828</td>\n",
       "      <td>REGIONAL HR MANAGER       Summary    ...</td>\n",
       "      <td>[ , [ , [ , &lt;div class=\"name\" itemprop=\"name\"&gt;...</td>\n",
       "    </tr>\n",
       "    <tr>\n",
       "      <th>3</th>\n",
       "      <td>hr</td>\n",
       "      <td>https://www.livecareer.com/resume-search/r/hr-...</td>\n",
       "      <td>120168133438024183006274626332357739684</td>\n",
       "      <td>HR GENERALIST       Professional Prof...</td>\n",
       "      <td>[ , [ , [ , &lt;div class=\"name\" itemprop=\"name\"&gt;...</td>\n",
       "    </tr>\n",
       "    <tr>\n",
       "      <th>4</th>\n",
       "      <td>hr</td>\n",
       "      <td>https://www.livecareer.com/resume-search/r/hr-...</td>\n",
       "      <td>37082950160311880080159288707042371082</td>\n",
       "      <td>HR COORDINATOR       Summary     To o...</td>\n",
       "      <td>[ , [ , [ , &lt;div class=\"name\" itemprop=\"name\"&gt;...</td>\n",
       "    </tr>\n",
       "  </tbody>\n",
       "</table>\n",
       "</div>"
      ],
      "text/plain": [
       "  Category                                               link  \\\n",
       "0       hr  https://www.livecareer.com/resume-search/r/hr-...   \n",
       "1       hr  https://www.livecareer.com/resume-search/r/bri...   \n",
       "2       hr  https://www.livecareer.com/resume-search/r/reg...   \n",
       "3       hr  https://www.livecareer.com/resume-search/r/hr-...   \n",
       "4       hr  https://www.livecareer.com/resume-search/r/hr-...   \n",
       "\n",
       "                                        id  \\\n",
       "0  203361909970992332506290823189098544432   \n",
       "1  176452925245576845188344162105053478091   \n",
       "2  224895221270146291614712443228903825828   \n",
       "3  120168133438024183006274626332357739684   \n",
       "4   37082950160311880080159288707042371082   \n",
       "\n",
       "                                              Resume  \\\n",
       "0           HR EMPLOYEE SERVICE REPRESENTATIVE   ...   \n",
       "1           BRIDGES OF AMERICA, HR SPECIALIST II ...   \n",
       "2           REGIONAL HR MANAGER       Summary    ...   \n",
       "3           HR GENERALIST       Professional Prof...   \n",
       "4           HR COORDINATOR       Summary     To o...   \n",
       "\n",
       "                                            Raw_html  \n",
       "0  [ , [ , [ , <div class=\"name\" itemprop=\"name\">...  \n",
       "1  [ , [ , [ , <div class=\"name\" itemprop=\"name\">...  \n",
       "2  [ , [ , [ , <div class=\"name\" itemprop=\"name\">...  \n",
       "3  [ , [ , [ , <div class=\"name\" itemprop=\"name\">...  \n",
       "4  [ , [ , [ , <div class=\"name\" itemprop=\"name\">...  "
      ]
     },
     "execution_count": 41,
     "metadata": {},
     "output_type": "execute_result"
    }
   ],
   "source": [
    "df.head()"
   ]
  },
  {
   "cell_type": "code",
   "execution_count": null,
   "id": "52518055",
   "metadata": {},
   "outputs": [],
   "source": []
  }
 ],
 "metadata": {
  "kernelspec": {
   "display_name": "Python 3",
   "language": "python",
   "name": "python3"
  },
  "language_info": {
   "codemirror_mode": {
    "name": "ipython",
    "version": 3
   },
   "file_extension": ".py",
   "mimetype": "text/x-python",
   "name": "python",
   "nbconvert_exporter": "python",
   "pygments_lexer": "ipython3",
   "version": "3.8.8"
  }
 },
 "nbformat": 4,
 "nbformat_minor": 5
}
